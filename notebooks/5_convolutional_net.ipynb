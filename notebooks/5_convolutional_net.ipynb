{
 "metadata": {
  "name": "",
  "signature": "sha256:5d9f76b1d1dc426c1b07e4480adfabee73388a181a66dd7bbdf1e9c1e0896efe"
 },
 "nbformat": 3,
 "nbformat_minor": 0,
 "worksheets": [
  {
   "cells": [
    {
     "cell_type": "markdown",
     "metadata": {},
     "source": [
      "Use 2D convolution - respect the 2D structure of the data by running the same network (same weights) on small 2D patches of the image."
     ]
    },
    {
     "cell_type": "code",
     "collapsed": false,
     "input": [
      "import os,sys,inspect\n",
      "currentdir = os.path.dirname(os.path.abspath(inspect.getfile(inspect.currentframe())))\n",
      "parentdir = os.path.dirname(currentdir)\n",
      "sys.path.insert(0,parentdir) \n",
      "import load\n",
      "import os\n",
      "load.datasets_dir = os.path.expanduser(\"~/Downloads/lisa/data/\")\n",
      "\n",
      "trX, teX, trY, teY = load.mnist(onehot=True)"
     ],
     "language": "python",
     "metadata": {},
     "outputs": [],
     "prompt_number": 1
    },
    {
     "cell_type": "markdown",
     "metadata": {},
     "source": [
      "On OSX this example is really slow and the GPU cause the Mac to shutdown! So run it on AWS with GPU (e.g. g2.2xlarge )"
     ]
    },
    {
     "cell_type": "code",
     "collapsed": false,
     "input": [
      "os.environ['THEANO_FLAGS'] = 'mode=FAST_RUN,device=gpu,floatX=float32'"
     ],
     "language": "python",
     "metadata": {},
     "outputs": [],
     "prompt_number": 2
    },
    {
     "cell_type": "code",
     "collapsed": false,
     "input": [
      "import theano\n",
      "from theano import tensor as T\n",
      "from theano.sandbox.rng_mrg import MRG_RandomStreams as RandomStreams\n",
      "import numpy as np\n",
      "from theano.tensor.nnet.conv import conv2d\n",
      "from theano.tensor.signal.downsample import max_pool_2d\n",
      "\n",
      "srng = RandomStreams()\n",
      "\n",
      "def floatX(X):\n",
      "    return np.asarray(X, dtype=theano.config.floatX)\n",
      "\n",
      "def init_weights(shape):\n",
      "    return theano.shared(floatX(np.random.randn(*shape) * 0.01))\n",
      "\n",
      "def rectify(X):\n",
      "    return T.maximum(X, 0.)\n",
      "\n",
      "def softmax(X):\n",
      "    e_x = T.exp(X - X.max(axis=1).dimshuffle(0, 'x'))\n",
      "    return e_x / e_x.sum(axis=1).dimshuffle(0, 'x')\n",
      "\n",
      "def dropout(X, p=0.):\n",
      "    if p > 0:\n",
      "        retain_prob = 1 - p\n",
      "        X *= srng.binomial(X.shape, p=retain_prob, dtype=theano.config.floatX, nstreams=60*256)\n",
      "        X /= retain_prob\n",
      "    return X\n",
      "\n",
      "def RMSprop(cost, params, lr=0.001, rho=0.9, epsilon=1e-6):\n",
      "    grads = T.grad(cost=cost, wrt=params)\n",
      "    updates = []\n",
      "    for p, g in zip(params, grads):\n",
      "        acc = theano.shared(p.get_value() * 0.)\n",
      "        acc_new = rho * acc + (1 - rho) * g ** 2\n",
      "        gradient_scaling = T.sqrt(acc_new + epsilon)\n",
      "        g = g / gradient_scaling\n",
      "        updates.append((acc, acc_new))\n",
      "        updates.append((p, p - lr * g))\n",
      "    return updates"
     ],
     "language": "python",
     "metadata": {},
     "outputs": [
      {
       "output_type": "stream",
       "stream": "stderr",
       "text": [
        "Using gpu device 0: GRID K520\n"
       ]
      }
     ],
     "prompt_number": 3
    },
    {
     "cell_type": "markdown",
     "metadata": {},
     "source": [
      "Convolution --> activation --> pooling --> dropout"
     ]
    },
    {
     "cell_type": "code",
     "collapsed": false,
     "input": [
      "def model(X, w, w2, w3, w4, w_o, p_drop_conv, p_drop_hidden):\n",
      "    # block to compute conv->activate->pool->noise\n",
      "    l1a = rectify(conv2d(X, w, border_mode='full'))\n",
      "    l1 = max_pool_2d(l1a, (2, 2))\n",
      "    l1 = dropout(l1, p_drop_conv)\n",
      "\n",
      "    l2a = rectify(conv2d(l1, w2))\n",
      "    l2 = max_pool_2d(l2a, (2, 2))\n",
      "    l2 = dropout(l2, p_drop_conv)\n",
      "\n",
      "    l3a = rectify(conv2d(l2, w3))\n",
      "    l3b = max_pool_2d(l3a, (2, 2))\n",
      "    # return back to original vector represnation\n",
      "    l3 = T.flatten(l3b, outdim=2)\n",
      "    l3 = dropout(l3, p_drop_conv)\n",
      "\n",
      "    l4 = rectify(T.dot(l3, w4))\n",
      "    l4 = dropout(l4, p_drop_hidden)\n",
      "\n",
      "    pyx = softmax(T.dot(l4, w_o))\n",
      "    return l1, l2, l3, l4, pyx"
     ],
     "language": "python",
     "metadata": {},
     "outputs": [],
     "prompt_number": 4
    },
    {
     "cell_type": "markdown",
     "metadata": {},
     "source": [
      "Reshape operation to conform to resize to single channel of 28 * 28 pixels."
     ]
    },
    {
     "cell_type": "code",
     "collapsed": false,
     "input": [
      "trX = trX.reshape(-1, 1, 28, 28)\n",
      "teX = teX.reshape(-1, 1, 28, 28)\n",
      "\n",
      "X = T.ftensor4()\n",
      "Y = T.fmatrix()"
     ],
     "language": "python",
     "metadata": {},
     "outputs": [],
     "prompt_number": 5
    },
    {
     "cell_type": "markdown",
     "metadata": {},
     "source": [
      "Convolution weights (n_kernels, n_channels, kernel_w, kernel_h).  Moving up the heirarchy we move towards deeper, narrower representations thanks to increasing numbers of filters and maxpooling operations."
     ]
    },
    {
     "cell_type": "code",
     "collapsed": false,
     "input": [
      "w = init_weights((32, 1, 3, 3))\n",
      "w2 = init_weights((64, 32, 3, 3))\n",
      "w3 = init_weights((128, 64, 3, 3))"
     ],
     "language": "python",
     "metadata": {},
     "outputs": [],
     "prompt_number": 6
    },
    {
     "cell_type": "code",
     "collapsed": false,
     "input": [
      "w4 = init_weights((128 * 3 * 3, 625))\n",
      "w_o = init_weights((625, 10))"
     ],
     "language": "python",
     "metadata": {},
     "outputs": [],
     "prompt_number": 7
    },
    {
     "cell_type": "markdown",
     "metadata": {},
     "source": [
      "Apply dropout during training."
     ]
    },
    {
     "cell_type": "code",
     "collapsed": false,
     "input": [
      "noise_l1, noise_l2, noise_l3, noise_l4, noise_py_x = model(X, w, w2, w3, w4, w_o, 0.2, 0.5)"
     ],
     "language": "python",
     "metadata": {},
     "outputs": [],
     "prompt_number": 8
    },
    {
     "cell_type": "markdown",
     "metadata": {},
     "source": [
      "Use a noiseless model for prediction."
     ]
    },
    {
     "cell_type": "code",
     "collapsed": false,
     "input": [
      "l1, l2, l3, l4, py_x = model(X, w, w2, w3, w4, w_o, 0., 0.)\n",
      "y_x = T.argmax(py_x, axis=1)\n",
      "\n",
      "\n",
      "cost = T.mean(T.nnet.categorical_crossentropy(noise_py_x, Y))\n",
      "params = [w, w2, w3, w4, w_o]\n",
      "updates = RMSprop(cost, params, lr=0.001)\n",
      "\n",
      "train = theano.function(inputs=[X, Y], outputs=cost, updates=updates, allow_input_downcast=True)\n",
      "predict = theano.function(inputs=[X], outputs=y_x, allow_input_downcast=True)"
     ],
     "language": "python",
     "metadata": {},
     "outputs": [
      {
       "output_type": "stream",
       "stream": "stderr",
       "text": [
        "/usr/local/lib/python2.7/dist-packages/theano/tensor/subtensor.py:110: FutureWarning: comparison to `None` will result in an elementwise object comparison in the future.\n",
        "  start in [None, 0] or\n",
        "/usr/local/lib/python2.7/dist-packages/theano/tensor/subtensor.py:114: FutureWarning: comparison to `None` will result in an elementwise object comparison in the future.\n",
        "  stop in [None, length, maxsize] or\n"
       ]
      }
     ],
     "prompt_number": 9
    },
    {
     "cell_type": "code",
     "collapsed": false,
     "input": [
      "%%time\n",
      "for i in range(100):\n",
      "    for start, end in zip(range(0, len(trX), 128), range(128, len(trX), 128)):\n",
      "        cost = train(trX[start:end], trY[start:end])\n",
      "        #print '%d:%.4f'%(start/128,cost),\n",
      "    #print\n",
      "    # prediction is also done in minibatches because the entire test data does not fit the Mac GPU :-(\n",
      "    errs = []\n",
      "    for start, end in zip(range(0, len(teX), 128), range(128, len(teX), 128)):\n",
      "        errs.append(np.argmax(teY[start:end], axis=1) == predict(teX[start:end]))\n",
      "    print '###',i, np.mean(np.concatenate(errs))"
     ],
     "language": "python",
     "metadata": {},
     "outputs": [
      {
       "output_type": "stream",
       "stream": "stdout",
       "text": [
        "### 0 0.934795673077\n",
        "###"
       ]
      },
      {
       "output_type": "stream",
       "stream": "stdout",
       "text": [
        " 1 0.973657852564\n",
        "###"
       ]
      },
      {
       "output_type": "stream",
       "stream": "stdout",
       "text": [
        " 2 0.982872596154\n",
        "###"
       ]
      },
      {
       "output_type": "stream",
       "stream": "stdout",
       "text": [
        " 3 0.987179487179\n",
        "###"
       ]
      },
      {
       "output_type": "stream",
       "stream": "stdout",
       "text": [
        " 4 0.987479967949\n",
        "###"
       ]
      },
      {
       "output_type": "stream",
       "stream": "stdout",
       "text": [
        " 5 0.989783653846\n",
        "###"
       ]
      },
      {
       "output_type": "stream",
       "stream": "stdout",
       "text": [
        " 6 0.987379807692\n",
        "###"
       ]
      },
      {
       "output_type": "stream",
       "stream": "stdout",
       "text": [
        " 7 0.991987179487\n",
        "###"
       ]
      },
      {
       "output_type": "stream",
       "stream": "stdout",
       "text": [
        " 8 0.991786858974\n",
        "###"
       ]
      },
      {
       "output_type": "stream",
       "stream": "stdout",
       "text": [
        " 9 0.991786858974\n",
        "###"
       ]
      },
      {
       "output_type": "stream",
       "stream": "stdout",
       "text": [
        " 10 0.992287660256\n",
        "###"
       ]
      },
      {
       "output_type": "stream",
       "stream": "stdout",
       "text": [
        " 11 0.992487980769\n",
        "###"
       ]
      },
      {
       "output_type": "stream",
       "stream": "stdout",
       "text": [
        " 12 0.991786858974\n",
        "###"
       ]
      },
      {
       "output_type": "stream",
       "stream": "stdout",
       "text": [
        " 13 0.9921875\n",
        "###"
       ]
      },
      {
       "output_type": "stream",
       "stream": "stdout",
       "text": [
        " 14 0.992588141026\n",
        "###"
       ]
      },
      {
       "output_type": "stream",
       "stream": "stdout",
       "text": [
        " 15 0.993689903846\n",
        "###"
       ]
      },
      {
       "output_type": "stream",
       "stream": "stdout",
       "text": [
        " 16 0.992788461538\n",
        "###"
       ]
      },
      {
       "output_type": "stream",
       "stream": "stdout",
       "text": [
        " 17 0.993289262821\n",
        "###"
       ]
      },
      {
       "output_type": "stream",
       "stream": "stdout",
       "text": [
        " 18 0.992287660256\n",
        "###"
       ]
      },
      {
       "output_type": "stream",
       "stream": "stdout",
       "text": [
        " 19 0.992588141026\n",
        "###"
       ]
      },
      {
       "output_type": "stream",
       "stream": "stdout",
       "text": [
        " 20 0.99358974359\n",
        "###"
       ]
      },
      {
       "output_type": "stream",
       "stream": "stdout",
       "text": [
        " 21 0.993990384615\n",
        "###"
       ]
      },
      {
       "output_type": "stream",
       "stream": "stdout",
       "text": [
        " 22 0.99358974359\n",
        "###"
       ]
      },
      {
       "output_type": "stream",
       "stream": "stdout",
       "text": [
        " 23 0.993289262821\n",
        "###"
       ]
      },
      {
       "output_type": "stream",
       "stream": "stdout",
       "text": [
        " 24 0.993189102564\n",
        "###"
       ]
      },
      {
       "output_type": "stream",
       "stream": "stdout",
       "text": [
        " 25 0.993489583333\n",
        "###"
       ]
      },
      {
       "output_type": "stream",
       "stream": "stdout",
       "text": [
        " 26 0.993389423077\n",
        "###"
       ]
      },
      {
       "output_type": "stream",
       "stream": "stdout",
       "text": [
        " 27 0.993990384615\n",
        "###"
       ]
      },
      {
       "output_type": "stream",
       "stream": "stdout",
       "text": [
        " 28 0.993790064103\n",
        "###"
       ]
      },
      {
       "output_type": "stream",
       "stream": "stdout",
       "text": [
        " 29 0.993489583333\n",
        "###"
       ]
      },
      {
       "output_type": "stream",
       "stream": "stdout",
       "text": [
        " 30 0.993890224359\n",
        "###"
       ]
      },
      {
       "output_type": "stream",
       "stream": "stdout",
       "text": [
        " 31 0.993289262821\n",
        "###"
       ]
      },
      {
       "output_type": "stream",
       "stream": "stdout",
       "text": [
        " 32 0.993189102564\n",
        "###"
       ]
      },
      {
       "output_type": "stream",
       "stream": "stdout",
       "text": [
        " 33 0.993890224359\n",
        "###"
       ]
      },
      {
       "output_type": "stream",
       "stream": "stdout",
       "text": [
        " 34 0.994190705128\n",
        "###"
       ]
      },
      {
       "output_type": "stream",
       "stream": "stdout",
       "text": [
        " 35 0.994090544872\n",
        "###"
       ]
      },
      {
       "output_type": "stream",
       "stream": "stdout",
       "text": [
        " 36 0.993489583333\n",
        "###"
       ]
      },
      {
       "output_type": "stream",
       "stream": "stdout",
       "text": [
        " 37 0.993990384615\n",
        "###"
       ]
      },
      {
       "output_type": "stream",
       "stream": "stdout",
       "text": [
        " 38 0.993790064103\n",
        "###"
       ]
      },
      {
       "output_type": "stream",
       "stream": "stdout",
       "text": [
        " 39 0.99358974359\n",
        "###"
       ]
      },
      {
       "output_type": "stream",
       "stream": "stdout",
       "text": [
        " 40 0.994090544872\n",
        "###"
       ]
      },
      {
       "output_type": "stream",
       "stream": "stdout",
       "text": [
        " 41 0.993990384615\n",
        "###"
       ]
      },
      {
       "output_type": "stream",
       "stream": "stdout",
       "text": [
        " 42 0.993790064103\n",
        "###"
       ]
      },
      {
       "output_type": "stream",
       "stream": "stdout",
       "text": [
        " 43 0.99358974359\n",
        "###"
       ]
      },
      {
       "output_type": "stream",
       "stream": "stdout",
       "text": [
        " 44 0.994090544872\n",
        "###"
       ]
      },
      {
       "output_type": "stream",
       "stream": "stdout",
       "text": [
        " 45 0.99358974359\n",
        "###"
       ]
      },
      {
       "output_type": "stream",
       "stream": "stdout",
       "text": [
        " 46 0.993990384615\n",
        "###"
       ]
      },
      {
       "output_type": "stream",
       "stream": "stdout",
       "text": [
        " 47 0.993389423077\n",
        "###"
       ]
      },
      {
       "output_type": "stream",
       "stream": "stdout",
       "text": [
        " 48 0.994090544872\n",
        "###"
       ]
      },
      {
       "output_type": "stream",
       "stream": "stdout",
       "text": [
        " 49 0.993389423077\n",
        "###"
       ]
      },
      {
       "output_type": "stream",
       "stream": "stdout",
       "text": [
        " 50 0.994290865385\n",
        "###"
       ]
      },
      {
       "output_type": "stream",
       "stream": "stdout",
       "text": [
        " 51 0.994290865385\n",
        "###"
       ]
      },
      {
       "output_type": "stream",
       "stream": "stdout",
       "text": [
        " 52 0.994391025641\n",
        "###"
       ]
      },
      {
       "output_type": "stream",
       "stream": "stdout",
       "text": [
        " 53 0.994791666667\n",
        "###"
       ]
      },
      {
       "output_type": "stream",
       "stream": "stdout",
       "text": [
        " 54 0.993990384615\n",
        "###"
       ]
      },
      {
       "output_type": "stream",
       "stream": "stdout",
       "text": [
        " 55 0.993990384615\n",
        "###"
       ]
      },
      {
       "output_type": "stream",
       "stream": "stdout",
       "text": [
        " 56 0.993890224359\n",
        "###"
       ]
      },
      {
       "output_type": "stream",
       "stream": "stdout",
       "text": [
        " 57 0.994090544872\n",
        "###"
       ]
      },
      {
       "output_type": "stream",
       "stream": "stdout",
       "text": [
        " 58 0.99469150641\n",
        "###"
       ]
      },
      {
       "output_type": "stream",
       "stream": "stdout",
       "text": [
        " 59 0.993990384615\n",
        "###"
       ]
      },
      {
       "output_type": "stream",
       "stream": "stdout",
       "text": [
        " 60 0.994391025641\n",
        "###"
       ]
      },
      {
       "output_type": "stream",
       "stream": "stdout",
       "text": [
        " 61 0.994591346154\n",
        "###"
       ]
      },
      {
       "output_type": "stream",
       "stream": "stdout",
       "text": [
        " 62 0.994391025641\n",
        "###"
       ]
      },
      {
       "output_type": "stream",
       "stream": "stdout",
       "text": [
        " 63 0.994190705128\n",
        "###"
       ]
      },
      {
       "output_type": "stream",
       "stream": "stdout",
       "text": [
        " 64 0.994791666667\n",
        "###"
       ]
      },
      {
       "output_type": "stream",
       "stream": "stdout",
       "text": [
        " 65 0.994391025641\n",
        "###"
       ]
      },
      {
       "output_type": "stream",
       "stream": "stdout",
       "text": [
        " 66 0.994491185897\n",
        "###"
       ]
      },
      {
       "output_type": "stream",
       "stream": "stdout",
       "text": [
        " 67 0.994791666667\n",
        "###"
       ]
      },
      {
       "output_type": "stream",
       "stream": "stdout",
       "text": [
        " 68 0.995092147436\n",
        "###"
       ]
      },
      {
       "output_type": "stream",
       "stream": "stdout",
       "text": [
        " 69 0.995192307692\n",
        "###"
       ]
      },
      {
       "output_type": "stream",
       "stream": "stdout",
       "text": [
        " 70 0.99469150641\n",
        "###"
       ]
      },
      {
       "output_type": "stream",
       "stream": "stdout",
       "text": [
        " 71 0.994491185897\n",
        "###"
       ]
      },
      {
       "output_type": "stream",
       "stream": "stdout",
       "text": [
        " 72 0.995092147436\n",
        "###"
       ]
      },
      {
       "output_type": "stream",
       "stream": "stdout",
       "text": [
        " 73 0.994891826923\n",
        "###"
       ]
      },
      {
       "output_type": "stream",
       "stream": "stdout",
       "text": [
        " 74 0.993489583333\n",
        "###"
       ]
      },
      {
       "output_type": "stream",
       "stream": "stdout",
       "text": [
        " 75 0.993890224359\n",
        "###"
       ]
      },
      {
       "output_type": "stream",
       "stream": "stdout",
       "text": [
        " 76 0.993890224359\n",
        "###"
       ]
      },
      {
       "output_type": "stream",
       "stream": "stdout",
       "text": [
        " 77 0.993890224359\n",
        "###"
       ]
      },
      {
       "output_type": "stream",
       "stream": "stdout",
       "text": [
        " 78 0.994591346154\n",
        "###"
       ]
      },
      {
       "output_type": "stream",
       "stream": "stdout",
       "text": [
        " 79 0.993790064103\n",
        "###"
       ]
      },
      {
       "output_type": "stream",
       "stream": "stdout",
       "text": [
        " 80 0.994791666667\n",
        "###"
       ]
      },
      {
       "output_type": "stream",
       "stream": "stdout",
       "text": [
        " 81 0.994491185897\n",
        "###"
       ]
      },
      {
       "output_type": "stream",
       "stream": "stdout",
       "text": [
        " 82 0.994591346154\n",
        "###"
       ]
      },
      {
       "output_type": "stream",
       "stream": "stdout",
       "text": [
        " 83 0.994791666667\n",
        "###"
       ]
      },
      {
       "output_type": "stream",
       "stream": "stdout",
       "text": [
        " 84 0.994290865385\n",
        "###"
       ]
      },
      {
       "output_type": "stream",
       "stream": "stdout",
       "text": [
        " 85 0.994591346154\n",
        "###"
       ]
      },
      {
       "output_type": "stream",
       "stream": "stdout",
       "text": [
        " 86 0.994591346154\n",
        "###"
       ]
      },
      {
       "output_type": "stream",
       "stream": "stdout",
       "text": [
        " 87 0.994891826923\n",
        "###"
       ]
      },
      {
       "output_type": "stream",
       "stream": "stdout",
       "text": [
        " 88 0.994991987179\n",
        "###"
       ]
      },
      {
       "output_type": "stream",
       "stream": "stdout",
       "text": [
        " 89 0.99358974359\n",
        "###"
       ]
      },
      {
       "output_type": "stream",
       "stream": "stdout",
       "text": [
        " 90 0.994791666667\n",
        "###"
       ]
      },
      {
       "output_type": "stream",
       "stream": "stdout",
       "text": [
        " 91 0.995092147436\n",
        "###"
       ]
      },
      {
       "output_type": "stream",
       "stream": "stdout",
       "text": [
        " 92 0.994290865385\n",
        "###"
       ]
      },
      {
       "output_type": "stream",
       "stream": "stdout",
       "text": [
        " 93 0.994791666667\n",
        "###"
       ]
      },
      {
       "output_type": "stream",
       "stream": "stdout",
       "text": [
        " 94 0.994391025641\n",
        "###"
       ]
      },
      {
       "output_type": "stream",
       "stream": "stdout",
       "text": [
        " 95 0.994391025641\n",
        "###"
       ]
      },
      {
       "output_type": "stream",
       "stream": "stdout",
       "text": [
        " 96 0.994591346154\n",
        "###"
       ]
      },
      {
       "output_type": "stream",
       "stream": "stdout",
       "text": [
        " 97 0.994190705128\n",
        "###"
       ]
      },
      {
       "output_type": "stream",
       "stream": "stdout",
       "text": [
        " 98 0.993890224359\n",
        "###"
       ]
      },
      {
       "output_type": "stream",
       "stream": "stdout",
       "text": [
        " 99 0.994391025641\n",
        "CPU times: user 1h 34min 43s, sys: 45min 13s, total: 2h 19min 57s\n",
        "Wall time: 2h 19min 56s\n"
       ]
      }
     ]
    },
    {
     "cell_type": "markdown",
     "metadata": {},
     "source": [
      "GPU 2h 19min 56s 0.994-0.995"
     ]
    },
    {
     "cell_type": "code",
     "collapsed": false,
     "input": [],
     "language": "python",
     "metadata": {},
     "outputs": []
    }
   ],
   "metadata": {}
  }
 ]
}